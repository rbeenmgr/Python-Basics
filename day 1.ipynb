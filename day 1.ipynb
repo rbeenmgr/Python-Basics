{
 "cells": [
  {
   "cell_type": "markdown",
   "metadata": {},
   "source": [
    "# Print is easy !!"
   ]
  },
  {
   "cell_type": "code",
   "execution_count": 1,
   "metadata": {},
   "outputs": [
    {
     "name": "stdout",
     "output_type": "stream",
     "text": [
      "Hello group B!!!\n"
     ]
    }
   ],
   "source": [
    "print(\"Hello group B!!!\")"
   ]
  },
  {
   "cell_type": "markdown",
   "metadata": {},
   "source": [
    "# Variables & Types"
   ]
  },
  {
   "cell_type": "code",
   "execution_count": 11,
   "metadata": {},
   "outputs": [
    {
     "name": "stdout",
     "output_type": "stream",
     "text": [
      "123 1.23 hello\n",
      "<class 'int'> <class 'float'> <class 'str'>\n",
      "2 python\n"
     ]
    }
   ],
   "source": [
    "a=123\n",
    "b=1.23\n",
    "c=\"hello\"\n",
    "print(a,b,c)\n",
    "\n",
    "\n",
    "#checking the type of variable\n",
    "\n",
    "print(type(a),type(b),type(c))\n",
    "\n",
    "\n",
    "#assigning variables in same line!!!\n",
    "\n",
    "a,b=2,\"python\"\n",
    "\n",
    "print(a,b)\n"
   ]
  },
  {
   "cell_type": "markdown",
   "metadata": {},
   "source": [
    "# Lists\n"
   ]
  },
  {
   "cell_type": "code",
   "execution_count": 6,
   "metadata": {},
   "outputs": [
    {
     "name": "stdout",
     "output_type": "stream",
     "text": [
      "[1, 2, 3, 4, 5, 6]\n",
      "[[1, 2], [3, 4], [5, 6]]\n",
      "[3, 4]\n",
      "[1, 2, 3, 2, 3, 4]\n",
      "4\n"
     ]
    }
   ],
   "source": [
    "list=[1,2,3,4,5,6]\n",
    "print(list)\n",
    "\n",
    "#lists can contail lists of lists...!!!\n",
    "\n",
    "a=[[1,2],[3,4],[5,6]]\n",
    "print(a)\n",
    "\n",
    "print(a[1])\n",
    "\n",
    "#using ''+'' operator in list!!\n",
    "\n",
    "b=[1,2,3]\n",
    "c=[2,3,4]\n",
    "print(b + c)\n",
    "\n",
    "#addition in lists!!!\n",
    "\n",
    "print(b[1] + c[0])"
   ]
  },
  {
   "cell_type": "markdown",
   "metadata": {},
   "source": [
    "# Operators\n"
   ]
  },
  {
   "cell_type": "code",
   "execution_count": 12,
   "metadata": {},
   "outputs": [
    {
     "name": "stdout",
     "output_type": "stream",
     "text": [
      "3\n",
      "2.0\n",
      "3\n",
      "16\n",
      "2\n",
      "4\n",
      "27\n"
     ]
    }
   ],
   "source": [
    "\n",
    "print(1+2)     #addition\n",
    "print(10/5)    #division\n",
    "print(5-2)     #subraction\n",
    "print(2*8)     #multiplication\n",
    "print(10%4)    #modulas(remainder)\n",
    "print(2**2)    #square\n",
    "print(3**3)    #cubic"
   ]
  },
  {
   "cell_type": "code",
   "execution_count": 14,
   "metadata": {},
   "outputs": [
    {
     "name": "stdout",
     "output_type": "stream",
     "text": [
      "hello hello hello hello hello hello hello hello hello hello \n"
     ]
    }
   ],
   "source": [
    "print(\"hello \"*10)"
   ]
  },
  {
   "cell_type": "code",
   "execution_count": null,
   "metadata": {},
   "outputs": [],
   "source": []
  },
  {
   "cell_type": "code",
   "execution_count": 1,
   "metadata": {},
   "outputs": [],
   "source": [
    "import numpy as np"
   ]
  },
  {
   "cell_type": "code",
   "execution_count": null,
   "metadata": {},
   "outputs": [],
   "source": []
  }
 ],
 "metadata": {
  "kernelspec": {
   "display_name": "Python 3",
   "language": "python",
   "name": "python3"
  },
  "language_info": {
   "codemirror_mode": {
    "name": "ipython",
    "version": 3
   },
   "file_extension": ".py",
   "mimetype": "text/x-python",
   "name": "python",
   "nbconvert_exporter": "python",
   "pygments_lexer": "ipython3",
   "version": "3.7.3"
  }
 },
 "nbformat": 4,
 "nbformat_minor": 2
}